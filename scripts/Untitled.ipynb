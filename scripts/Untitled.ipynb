{
 "cells": [
  {
   "cell_type": "code",
   "execution_count": 1,
   "metadata": {},
   "outputs": [],
   "source": [
    "import tpbp_functions as tp\n",
    "import networkx as nx\n",
    "import rospkg"
   ]
  },
  {
   "cell_type": "code",
   "execution_count": 4,
   "metadata": {},
   "outputs": [
    {
     "output_type": "stream",
     "name": "stdout",
     "text": [
      "cair True\n",
      "circle True\n",
      "grid_5_5 True\n",
      "iitb_full True\n",
      "iitb True\n",
      "ladder True\n",
      "st_line_assym True\n",
      "st_line True\n",
      "udupi_manipal False\n"
     ]
    }
   ],
   "source": [
    "graphs = ['cair', 'circle', 'grid_5_5', 'iitb_full', 'iitb', 'ladder', 'st_line_assym', 'st_line', 'udupi_manipal']\n",
    "for name in graphs:\n",
    "    g = nx.read_graphml(rospkg.RosPack().get_path('mrpp_sumo') + '/graph_ml/{}.graphml'.format(name))\n",
    "    print (name, nx.is_strongly_connected(g))\n"
   ]
  },
  {
   "cell_type": "code",
   "execution_count": 3,
   "metadata": {},
   "outputs": [
    {
     "output_type": "stream",
     "name": "stdout",
     "text": [
      "Converted Successfully!\nGraph Name: iitb_full\nTotal Nodes: 103\nTotal Edges: 258\n"
     ]
    }
   ],
   "source": [
    "import sumo_to_graphml as sg\n",
    "sg.graph_wrapper('iitb_full')"
   ]
  },
  {
   "cell_type": "code",
   "execution_count": 24,
   "metadata": {},
   "outputs": [
    {
     "name": "stdout",
     "output_type": "stream",
     "text": [
      "{'name': '-99829039#9', 'length': 26.799332443085518}\n",
      "<class 'str'> -99829039#9\n",
      "<class 'float'> -99829039#9\n",
      "{'name': '-99829041#0', 'length': 61.58747031661552}\n",
      "<class 'str'> -99829041#0\n",
      "<class 'float'> -99829041#0\n",
      "{'name': '99829041#1', 'length': 104.58246506943696}\n",
      "<class 'str'> 99829041#1\n",
      "<class 'float'> 99829041#1\n",
      "{'name': '99829041#0', 'length': 61.58747031661552}\n",
      "<class 'str'> 99829041#0\n",
      "<class 'float'> 99829041#0\n",
      "{'name': '-99829041#1', 'length': 104.58246506943696}\n",
      "<class 'str'> -99829041#1\n",
      "<class 'float'> -99829041#1\n",
      "{'name': '142865483', 'length': 96.21382425020091}\n",
      "<class 'str'> 142865483\n",
      "<class 'float'> 142865483\n",
      "{'name': '-99829039#0', 'length': 60.278462156893156}\n",
      "<class 'str'> -99829039#0\n",
      "<class 'float'> -99829039#0\n",
      "{'name': '142865552#0', 'length': 108.50704408430512}\n",
      "<class 'str'> 142865552#0\n",
      "<class 'float'> 142865552#0\n",
      "{'name': '99829039#1', 'length': 76.6378946735882}\n",
      "<class 'str'> 99829039#1\n",
      "<class 'float'> 99829039#1\n",
      "{'name': '142865550', 'length': 41.246309410600674}\n",
      "<class 'str'> 142865550\n",
      "<class 'float'> 142865550\n",
      "{'name': '-142865552#1', 'length': 56.54657846612294}\n",
      "<class 'str'> -142865552#1\n",
      "<class 'float'> -142865552#1\n",
      "{'name': '-99829039#1', 'length': 76.6378946735882}\n",
      "<class 'str'> -99829039#1\n",
      "<class 'float'> -99829039#1\n",
      "{'name': '99829039#2', 'length': 47.23957083821107}\n",
      "<class 'str'> 99829039#2\n",
      "<class 'float'> 99829039#2\n",
      "{'name': '-142865547#1', 'length': 68.47893688176615}\n",
      "<class 'str'> -142865547#1\n",
      "<class 'float'> -142865547#1\n",
      "{'name': '142865547#2', 'length': 49.035704722267326}\n",
      "<class 'str'> 142865547#2\n",
      "<class 'float'> 142865547#2\n",
      "{'name': '142865551#0', 'length': 34.70030835597864}\n",
      "<class 'str'> 142865551#0\n",
      "<class 'float'> 142865551#0\n",
      "{'name': '-142865547#0', 'length': 54.72516757648734}\n",
      "<class 'str'> -142865547#0\n",
      "<class 'float'> -142865547#0\n",
      "{'name': '-142865549#1', 'length': 43.43913508524589}\n",
      "<class 'str'> -142865549#1\n",
      "<class 'float'> -142865549#1\n",
      "{'name': '142865547#1', 'length': 68.47893688176615}\n",
      "<class 'str'> 142865547#1\n",
      "<class 'float'> 142865547#1\n",
      "{'name': '-99829039#6', 'length': 42.658470105294676}\n",
      "<class 'str'> -99829039#6\n",
      "<class 'float'> -99829039#6\n",
      "{'name': '142865548#0', 'length': 51.86931803855617}\n",
      "<class 'str'> 142865548#0\n",
      "<class 'float'> 142865548#0\n",
      "{'name': '99829039#7', 'length': 66.09921045187428}\n",
      "<class 'str'> 99829039#7\n",
      "<class 'float'> 99829039#7\n",
      "{'name': '-142865548#0', 'length': 51.86931803855618}\n",
      "<class 'str'> -142865548#0\n",
      "<class 'float'> -142865548#0\n",
      "{'name': '-142865551#1', 'length': 30.42090399708728}\n",
      "<class 'str'> -142865551#1\n",
      "<class 'float'> -142865551#1\n",
      "{'name': '142865548#1', 'length': 84.23799224749341}\n",
      "<class 'str'> 142865548#1\n",
      "<class 'float'> 142865548#1\n",
      "{'name': '142865553', 'length': 30.940951827634517}\n",
      "<class 'str'> 142865553\n",
      "<class 'float'> 142865553\n",
      "{'name': '-142865551#0', 'length': 34.70030835597864}\n",
      "<class 'str'> -142865551#0\n",
      "<class 'float'> -142865551#0\n",
      "{'name': '-142865553', 'length': 30.940951827634517}\n",
      "<class 'str'> -142865553\n",
      "<class 'float'> -142865553\n",
      "{'name': '142865551#1', 'length': 30.42090399708728}\n",
      "<class 'str'> 142865551#1\n",
      "<class 'float'> 142865551#1\n",
      "{'name': '99829039#0', 'length': 60.278462156893156}\n",
      "<class 'str'> 99829039#0\n",
      "<class 'float'> 99829039#0\n",
      "{'name': '-142865483', 'length': 96.21382425020091}\n",
      "<class 'str'> -142865483\n",
      "<class 'float'> -142865483\n",
      "{'name': '-99829039#2', 'length': 47.23957083821107}\n",
      "<class 'str'> -99829039#2\n",
      "<class 'float'> -99829039#2\n",
      "{'name': '142865547#0', 'length': 54.72516757648734}\n",
      "<class 'str'> 142865547#0\n",
      "<class 'float'> 142865547#0\n",
      "{'name': '99829039#4', 'length': 33.956158840438334}\n",
      "<class 'str'> 99829039#4\n",
      "<class 'float'> 99829039#4\n",
      "{'name': '-142865484', 'length': 136.61356950929587}\n",
      "<class 'str'> -142865484\n",
      "<class 'float'> -142865484\n",
      "{'name': '-142865547#2', 'length': 49.035704722267326}\n",
      "<class 'str'> -142865547#2\n",
      "<class 'float'> -142865547#2\n",
      "{'name': '-99829039#4', 'length': 33.956158840438334}\n",
      "<class 'str'> -99829039#4\n",
      "<class 'float'> -99829039#4\n",
      "{'name': '99829039#6', 'length': 42.658470105294676}\n",
      "<class 'str'> 99829039#6\n",
      "<class 'float'> 99829039#6\n",
      "{'name': '-142865548#1', 'length': 84.2379922474934}\n",
      "<class 'str'> -142865548#1\n",
      "<class 'float'> -142865548#1\n",
      "{'name': '-99829039#7', 'length': 66.09921045187428}\n",
      "<class 'str'> -99829039#7\n",
      "<class 'float'> -99829039#7\n",
      "{'name': '142865484', 'length': 136.6135695092959}\n",
      "<class 'str'> 142865484\n",
      "<class 'float'> 142865484\n",
      "{'name': '99829039#9', 'length': 26.799332443085518}\n",
      "<class 'str'> 99829039#9\n",
      "<class 'float'> 99829039#9\n",
      "{'name': '-142865550', 'length': 41.246309410600674}\n",
      "<class 'str'> -142865550\n",
      "<class 'float'> -142865550\n",
      "{'name': '-142865552#0', 'length': 108.50704408430514}\n",
      "<class 'str'> -142865552#0\n",
      "<class 'float'> -142865552#0\n",
      "{'name': '142865549#1', 'length': 43.43913508524589}\n",
      "<class 'str'> 142865549#1\n",
      "<class 'float'> 142865549#1\n",
      "{'name': '142865552#1', 'length': 56.54657846612293}\n",
      "<class 'str'> 142865552#1\n",
      "<class 'float'> 142865552#1\n"
     ]
    }
   ],
   "source": []
  },
  {
   "cell_type": "code",
   "execution_count": 11,
   "metadata": {},
   "outputs": [],
   "source": [
    "s = \"1154147728 cluster_1563324010_1563324356 1563324357 cluster_1563324002_1563324346\".split(\" \")"
   ]
  },
  {
   "cell_type": "code",
   "execution_count": 12,
   "metadata": {},
   "outputs": [
    {
     "data": {
      "text/plain": [
       "['1154147728',\n",
       " 'cluster_1563324010_1563324356',\n",
       " '1563324357',\n",
       " 'cluster_1563324002_1563324346']"
      ]
     },
     "execution_count": 12,
     "metadata": {},
     "output_type": "execute_result"
    }
   ],
   "source": [
    "s"
   ]
  },
  {
   "cell_type": "code",
   "execution_count": 13,
   "metadata": {},
   "outputs": [
    {
     "name": "stdout",
     "output_type": "stream",
     "text": [
      "1154147728 cluster_1563324010_1563324356 131.3817975125225\n",
      "1154147728 1563324357 246.04069375710316\n",
      "1154147728 cluster_1563324002_1563324346 274.09563691012977\n",
      "131.3817975125225\n",
      "1154147728 1563324357 246.04069375710316\n",
      "1154147728 cluster_1563324002_1563324346 274.09563691012977\n",
      "cluster_1563324010_1563324356 1563324357 114.65889624458067\n",
      "cluster_1563324010_1563324356 cluster_1563324002_1563324346 142.71383939760727\n",
      "114.65889624458067\n",
      "1154147728 cluster_1563324002_1563324346 274.09563691012977\n",
      "cluster_1563324010_1563324356 cluster_1563324002_1563324346 142.71383939760727\n",
      "1563324357 cluster_1563324002_1563324346 117.69217191868431\n",
      "117.69217191868431\n",
      "cluster_1563324010_1563324356 1154147728 131.3817975125225\n",
      "cluster_1563324010_1563324356 1563324357 114.65889624458067\n",
      "cluster_1563324010_1563324356 cluster_1563324002_1563324346 142.71383939760727\n",
      "114.65889624458067\n",
      "cluster_1563324010_1563324356 1154147728 131.3817975125225\n",
      "cluster_1563324010_1563324356 cluster_1563324002_1563324346 142.71383939760727\n",
      "1563324357 1154147728 246.04069375710316\n",
      "1563324357 cluster_1563324002_1563324346 117.69217191868431\n",
      "117.69217191868431\n",
      "cluster_1563324010_1563324356 1154147728 131.3817975125225\n",
      "1563324357 1154147728 246.04069375710316\n",
      "cluster_1563324002_1563324346 1154147728 274.09563691012977\n",
      "131.3817975125225\n",
      "1563324357 1154147728 246.04069375710316\n",
      "1563324357 cluster_1563324010_1563324356 114.65889624458069\n",
      "1563324357 cluster_1563324002_1563324346 117.69217191868431\n",
      "114.65889624458069\n",
      "1563324357 1154147728 246.04069375710316\n",
      "1563324357 cluster_1563324002_1563324346 117.69217191868431\n",
      "cluster_1563324010_1563324356 1154147728 131.3817975125225\n",
      "cluster_1563324010_1563324356 cluster_1563324002_1563324346 142.71383939760727\n",
      "117.69217191868431\n",
      "1563324357 1154147728 246.04069375710316\n",
      "cluster_1563324010_1563324356 1154147728 131.3817975125225\n",
      "cluster_1563324002_1563324346 1154147728 274.09563691012977\n",
      "131.3817975125225\n",
      "cluster_1563324002_1563324346 1154147728 274.09563691012977\n",
      "cluster_1563324002_1563324346 cluster_1563324010_1563324356 142.7138393976073\n",
      "cluster_1563324002_1563324346 1563324357 117.6921719186843\n",
      "117.6921719186843\n",
      "cluster_1563324002_1563324346 1154147728 274.09563691012977\n",
      "cluster_1563324002_1563324346 cluster_1563324010_1563324356 142.7138393976073\n",
      "1563324357 1154147728 246.04069375710316\n",
      "1563324357 cluster_1563324010_1563324356 114.65889624458069\n",
      "114.65889624458069\n",
      "cluster_1563324002_1563324346 1154147728 274.09563691012977\n",
      "1563324357 1154147728 246.04069375710316\n",
      "cluster_1563324010_1563324356 1154147728 131.3817975125225\n",
      "131.3817975125225\n"
     ]
    },
    {
     "data": {
      "text/plain": [
       "368.3118553373848"
      ]
     },
     "execution_count": 13,
     "metadata": {},
     "output_type": "execute_result"
    }
   ],
   "source": [
    "tp.compute_min_tp(g, s)"
   ]
  },
  {
   "cell_type": "code",
   "execution_count": null,
   "metadata": {},
   "outputs": [],
   "source": []
  }
 ],
 "metadata": {
  "kernelspec": {
   "display_name": "Python 3",
   "language": "python",
   "name": "python3"
  },
  "language_info": {
   "codemirror_mode": {
    "name": "ipython",
    "version": 3
   },
   "file_extension": ".py",
   "mimetype": "text/x-python",
   "name": "python",
   "nbconvert_exporter": "python",
   "pygments_lexer": "ipython3",
   "version": "3.6.9-final"
  }
 },
 "nbformat": 4,
 "nbformat_minor": 2
}